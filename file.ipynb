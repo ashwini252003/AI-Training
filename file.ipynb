{
 "cells": [
  {
   "cell_type": "code",
   "execution_count": null,
   "id": "82cd4bb8",
   "metadata": {},
   "outputs": [],
   "source": [
    "file = open(\"C:\\Users\\ashwini\\Downloads\\File handling\\demo1.txt\")\n",
    "#Absolute path(copy path) - entire path\n",
    "#Relative path(copy relative path) - particular file name only"
   ]
  },
  {
   "cell_type": "code",
   "execution_count": null,
   "id": "78c17f33",
   "metadata": {},
   "outputs": [],
   "source": [
    "#Files are named locations on the disk to store relevant information\n",
    "#Operations - Open(),read(),write(),append()\n",
    "\n",
    "#1.Open the file location\n",
    "#2.read /write operation\n",
    "#3.close the file\n",
    "\n",
    "#The file can be a text file , binary file , csv file"
   ]
  },
  {
   "cell_type": "code",
   "execution_count": null,
   "id": "51c8165f",
   "metadata": {},
   "outputs": [],
   "source": [
    "#working of Open()function\n",
    "# syntax - file = open(filepath , mode)\n",
    "# list of modes\n",
    "\n",
    "#1. r - read the file\n",
    "#2. w - write the content in the file\n",
    "#3. a - append the content\n",
    "#4. r+ - To READ and write the content. The previous data in the file was not deleted\n",
    "#5. w+ - TO WRITE AND READ. It will override the existing data\n",
    "#6. a+ - To append and read . It wont override"
   ]
  },
  {
   "cell_type": "code",
   "execution_count": null,
   "id": "4bfcd004",
   "metadata": {},
   "outputs": [
    {
     "name": "stdout",
     "output_type": "stream",
     "text": [
      "<_io.TextIOWrapper name='demo1.txt' mode='r' encoding='utf-8'>\n"
     ]
    }
   ],
   "source": [
    "file = open(\"demo1.txt\",\"r\")\n",
    "print(file)\n",
    "file.name\n",
    "file.mode\n",
    "#Close the file \n",
    "file.close()"
   ]
  },
  {
   "cell_type": "code",
   "execution_count": null,
   "id": "bea95b35",
   "metadata": {},
   "outputs": [],
   "source": [
    "#Reading from a file\n",
    "#1.read, 2.readline,3.readlines\n",
    "#1.read - it reads the entire file\n",
    "#2.readline - reads a one line\n",
    "# 3.readlines - It will read line by line \n"
   ]
  },
  {
   "cell_type": "code",
   "execution_count": 12,
   "id": "79c715eb",
   "metadata": {},
   "outputs": [
    {
     "name": "stdout",
     "output_type": "stream",
     "text": [
      "['Hi , Hello \\n', 'How are You\\n', 'Hope you are doing good\\n']\n"
     ]
    }
   ],
   "source": [
    "#read()\n",
    "file = open(\"demo1.txt\",\"r\")\n",
    "data1 = file.readlines()\n",
    "print(data1)\n"
   ]
  },
  {
   "cell_type": "code",
   "execution_count": 34,
   "id": "d2ba248a",
   "metadata": {},
   "outputs": [
    {
     "name": "stdout",
     "output_type": "stream",
     "text": [
      "<_io.TextIOWrapper name='demo1.txt' mode='w' encoding='utf-8'>\n",
      "This is India\n",
      "Im hin india only\n",
      "Its good\n",
      "\n"
     ]
    }
   ],
   "source": [
    "#write method\n",
    "# 1. write, 2.writelines\n",
    "#write - only on eline\n",
    "#writelines - write a multiple lines\n",
    "file = open(\"demo1.txt\",\"w\")\n",
    "content = \"This is India\\n\",\"Im hin india only\\n\",\"Its good\\n\"\n",
    "file.writelines(content)\n",
    "print(file)\n",
    "file = open(\"demo1.txt\",\"r\")\n",
    "print(file.read())\n"
   ]
  },
  {
   "cell_type": "code",
   "execution_count": 40,
   "id": "10a38ffb",
   "metadata": {},
   "outputs": [
    {
     "name": "stdout",
     "output_type": "stream",
     "text": [
      "This is India\n",
      "Im hin india only\n",
      "Its good\n",
      "Hi , helloHi , helloGood afternoonTHank youHi , hello\n",
      "Good afternoon\n",
      "THank you\n",
      "\n",
      "Good afternoon\n",
      "THank you\n",
      "\n",
      "Good afternoon\n",
      "THank you\n",
      "\n",
      "Good afternoon\n",
      "THank you\n",
      "\n"
     ]
    }
   ],
   "source": [
    "#append \n",
    "file = open(\"demo1.txt\",\"a\")\n",
    "file.write(\"\\n\")\n",
    "file.write(\"Good afternoon\\n\")\n",
    "file.write(\"THank you\\n\")\n",
    "file = open(\"demo1.txt\",\"r\")\n",
    "print(file.read())\n"
   ]
  },
  {
   "cell_type": "code",
   "execution_count": 44,
   "id": "0b1df242",
   "metadata": {},
   "outputs": [
    {
     "name": "stdout",
     "output_type": "stream",
     "text": [
      "This is India\n",
      "Im hin india only\n",
      "Its good\n",
      "Hi , helloHi , helloGood afternoonTHank youHi , hello\n",
      "Good afternoon\n",
      "THank you\n",
      "\n",
      "Good afternoon\n",
      "THank you\n",
      "\n",
      "Good afternoon\n",
      "THank you\n",
      "\n",
      "Good afternoon\n",
      "THank you\n",
      "Python is great\n",
      "This is India\n",
      "Im hin india only\n",
      "Its good\n",
      "Hi , helloHi , helloGood afternoonTHank youHi , hello\n",
      "Good afternoon\n",
      "THank you\n",
      "\n",
      "Good afternoon\n",
      "THank you\n",
      "\n",
      "Good afternoon\n",
      "THank you\n",
      "\n",
      "Good afternoon\n",
      "THank you\n",
      "Python is greatPython is great\n"
     ]
    }
   ],
   "source": [
    "#r+\n",
    "file = open(\"demo1.txt\",\"r+\")\n",
    "content = file.read()\n",
    "print(content)\n",
    "file.write(\"Python is great\")\n",
    "file = open(\"demo1.txt\",\"r\")\n",
    "content = file.read()\n",
    "print(content)\n"
   ]
  },
  {
   "cell_type": "code",
   "execution_count": null,
   "id": "a754cee7",
   "metadata": {},
   "outputs": [
    {
     "name": "stdout",
     "output_type": "stream",
     "text": [
      "\n"
     ]
    }
   ],
   "source": [
    "file = open(\"demo1.txt\",\"w+\")\n",
    "file.write(\"You guys are very smart especially alby\")\n",
    "print(file.read()) #it overrides the existing content"
   ]
  },
  {
   "cell_type": "code",
   "execution_count": 51,
   "id": "a73602a6",
   "metadata": {},
   "outputs": [
    {
     "name": "stdout",
     "output_type": "stream",
     "text": [
      "\n"
     ]
    }
   ],
   "source": [
    "#a+\n",
    "file = open(\"demo1.txt\",\"a+\")\n",
    "file.write(\"BYE BYE BYE\")\n",
    "print(file.read())\n"
   ]
  },
  {
   "cell_type": "code",
   "execution_count": null,
   "id": "239eaae8",
   "metadata": {},
   "outputs": [
    {
     "data": {
      "text/html": [
       "<div>\n",
       "<style scoped>\n",
       "    .dataframe tbody tr th:only-of-type {\n",
       "        vertical-align: middle;\n",
       "    }\n",
       "\n",
       "    .dataframe tbody tr th {\n",
       "        vertical-align: top;\n",
       "    }\n",
       "\n",
       "    .dataframe thead th {\n",
       "        text-align: right;\n",
       "    }\n",
       "</style>\n",
       "<table border=\"1\" class=\"dataframe\">\n",
       "  <thead>\n",
       "    <tr style=\"text-align: right;\">\n",
       "      <th></th>\n",
       "      <th>SI.NO</th>\n",
       "      <th>Name</th>\n",
       "      <th>Salary</th>\n",
       "    </tr>\n",
       "  </thead>\n",
       "  <tbody>\n",
       "    <tr>\n",
       "      <th>0</th>\n",
       "      <td>1</td>\n",
       "      <td>Richu</td>\n",
       "      <td>10</td>\n",
       "    </tr>\n",
       "    <tr>\n",
       "      <th>1</th>\n",
       "      <td>2</td>\n",
       "      <td>Abishek</td>\n",
       "      <td>5000</td>\n",
       "    </tr>\n",
       "    <tr>\n",
       "      <th>2</th>\n",
       "      <td>3</td>\n",
       "      <td>Aadil</td>\n",
       "      <td>2</td>\n",
       "    </tr>\n",
       "    <tr>\n",
       "      <th>3</th>\n",
       "      <td>4</td>\n",
       "      <td>Adhulyaa</td>\n",
       "      <td>1</td>\n",
       "    </tr>\n",
       "    <tr>\n",
       "      <th>4</th>\n",
       "      <td>5</td>\n",
       "      <td>Sripriya</td>\n",
       "      <td>0</td>\n",
       "    </tr>\n",
       "    <tr>\n",
       "      <th>5</th>\n",
       "      <td>6</td>\n",
       "      <td>Jameela</td>\n",
       "      <td>3000</td>\n",
       "    </tr>\n",
       "    <tr>\n",
       "      <th>6</th>\n",
       "      <td>7</td>\n",
       "      <td>Fady</td>\n",
       "      <td>100,000</td>\n",
       "    </tr>\n",
       "    <tr>\n",
       "      <th>7</th>\n",
       "      <td>8</td>\n",
       "      <td>Deepasri</td>\n",
       "      <td>-1</td>\n",
       "    </tr>\n",
       "    <tr>\n",
       "      <th>8</th>\n",
       "      <td>9</td>\n",
       "      <td>Afsana</td>\n",
       "      <td>0</td>\n",
       "    </tr>\n",
       "    <tr>\n",
       "      <th>9</th>\n",
       "      <td>10</td>\n",
       "      <td>riswan</td>\n",
       "      <td>2000</td>\n",
       "    </tr>\n",
       "    <tr>\n",
       "      <th>10</th>\n",
       "      <td>11</td>\n",
       "      <td>Jimmy</td>\n",
       "      <td>800</td>\n",
       "    </tr>\n",
       "    <tr>\n",
       "      <th>11</th>\n",
       "      <td>12</td>\n",
       "      <td>aman</td>\n",
       "      <td>100000</td>\n",
       "    </tr>\n",
       "    <tr>\n",
       "      <th>12</th>\n",
       "      <td>13</td>\n",
       "      <td>avani</td>\n",
       "      <td>1000</td>\n",
       "    </tr>\n",
       "    <tr>\n",
       "      <th>13</th>\n",
       "      <td>14</td>\n",
       "      <td>tebin</td>\n",
       "      <td>1000</td>\n",
       "    </tr>\n",
       "    <tr>\n",
       "      <th>14</th>\n",
       "      <td>15</td>\n",
       "      <td>sandra</td>\n",
       "      <td>1000000</td>\n",
       "    </tr>\n",
       "    <tr>\n",
       "      <th>15</th>\n",
       "      <td>16</td>\n",
       "      <td>minha</td>\n",
       "      <td>100000</td>\n",
       "    </tr>\n",
       "    <tr>\n",
       "      <th>16</th>\n",
       "      <td>17</td>\n",
       "      <td>joshika</td>\n",
       "      <td>10000</td>\n",
       "    </tr>\n",
       "    <tr>\n",
       "      <th>17</th>\n",
       "      <td>18</td>\n",
       "      <td>kishore</td>\n",
       "      <td>200</td>\n",
       "    </tr>\n",
       "    <tr>\n",
       "      <th>18</th>\n",
       "      <td>19</td>\n",
       "      <td>anusha</td>\n",
       "      <td>50000</td>\n",
       "    </tr>\n",
       "  </tbody>\n",
       "</table>\n",
       "</div>"
      ],
      "text/plain": [
       "    SI.NO      Name   Salary\n",
       "0       1     Richu       10\n",
       "1       2   Abishek     5000\n",
       "2       3     Aadil        2\n",
       "3       4  Adhulyaa        1\n",
       "4       5  Sripriya        0\n",
       "5       6   Jameela     3000\n",
       "6       7      Fady  100,000\n",
       "7       8  Deepasri       -1\n",
       "8       9    Afsana        0\n",
       "9      10    riswan     2000\n",
       "10     11     Jimmy      800\n",
       "11     12      aman   100000\n",
       "12     13     avani     1000\n",
       "13     14     tebin     1000\n",
       "14     15    sandra  1000000\n",
       "15     16     minha   100000\n",
       "16     17   joshika    10000\n",
       "17     18   kishore      200\n",
       "18     19    anusha    50000"
      ]
     },
     "execution_count": 2,
     "metadata": {},
     "output_type": "execute_result"
    }
   ],
   "source": [
    "# Structured - Tablular data \n",
    "#unstructured\n",
    "#Pandas - it is a package. Its used to perform data manipulation\n",
    "import pandas as pd\n",
    "file = pd.read_csv(\"Book1.csv\")\n",
    "file"
   ]
  },
  {
   "cell_type": "code",
   "execution_count": 7,
   "id": "8a8650d6",
   "metadata": {},
   "outputs": [
    {
     "name": "stdout",
     "output_type": "stream",
     "text": [
      "especially some students giving some effort!\n"
     ]
    }
   ],
   "source": [
    "#Read a file and return longest sequence\n",
    "#with - no need to use close function\n",
    "import re\n",
    "def ls(filepath):\n",
    "    with open(filepath,\"r\")as file:\n",
    "        text=file.read()\n",
    "        sentence = re.split(r'(?<=[.!?])',text)\n",
    "        sentences = [i.strip() for i in sentence if i.strip()]\n",
    "        max_sentence = max(sentences,key=len)\n",
    "        return max_sentence\n",
    "print(ls(\"demo1.txt\"))\n",
    "\n"
   ]
  },
  {
   "cell_type": "code",
   "execution_count": null,
   "id": "b3c04dab",
   "metadata": {},
   "outputs": [],
   "source": []
  },
  {
   "cell_type": "code",
   "execution_count": null,
   "id": "aeca886d",
   "metadata": {},
   "outputs": [],
   "source": []
  }
 ],
 "metadata": {
  "kernelspec": {
   "display_name": "base",
   "language": "python",
   "name": "python3"
  },
  "language_info": {
   "codemirror_mode": {
    "name": "ipython",
    "version": 3
   },
   "file_extension": ".py",
   "mimetype": "text/x-python",
   "name": "python",
   "nbconvert_exporter": "python",
   "pygments_lexer": "ipython3",
   "version": "3.12.7"
  }
 },
 "nbformat": 4,
 "nbformat_minor": 5
}
